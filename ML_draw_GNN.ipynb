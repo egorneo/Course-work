{
  "cells": [
    {
      "cell_type": "markdown",
      "metadata": {
        "id": "view-in-github",
        "colab_type": "text"
      },
      "source": [
        "<a href=\"https://colab.research.google.com/github/egorneo/Course-work/blob/main/ML_draw_GNN.ipynb\" target=\"_parent\"><img src=\"https://colab.research.google.com/assets/colab-badge.svg\" alt=\"Open In Colab\"/></a>"
      ]
    },
    {
      "cell_type": "code",
      "source": [
        "!pip install -Uq torch_geometric"
      ],
      "metadata": {
        "id": "tzZeAFXktRPY"
      },
      "execution_count": null,
      "outputs": []
    },
    {
      "cell_type": "code",
      "execution_count": null,
      "metadata": {
        "colab": {
          "base_uri": "https://localhost:8080/"
        },
        "id": "kpYj7GlrCXCu",
        "outputId": "0705e707-11f3-4f13-dd84-47a6ab2bdd66"
      },
      "outputs": [
        {
          "output_type": "stream",
          "name": "stdout",
          "text": [
            "--2024-04-04 19:30:29--  https://raw.githubusercontent.com/egorneo/Course-work/main/dataset.py\n",
            "Resolving raw.githubusercontent.com (raw.githubusercontent.com)... 185.199.108.133, 185.199.109.133, 185.199.110.133, ...\n",
            "Connecting to raw.githubusercontent.com (raw.githubusercontent.com)|185.199.108.133|:443... connected.\n",
            "HTTP request sent, awaiting response... 200 OK\n",
            "Length: 1150 (1.1K) [text/plain]\n",
            "Saving to: ‘dataset.py’\n",
            "\n",
            "\rdataset.py            0%[                    ]       0  --.-KB/s               \rdataset.py          100%[===================>]   1.12K  --.-KB/s    in 0s      \n",
            "\n",
            "2024-04-04 19:30:29 (80.1 MB/s) - ‘dataset.py’ saved [1150/1150]\n",
            "\n",
            "--2024-04-04 19:30:29--  https://github.com/egorneo/Course-work/raw/main/data.zip\n",
            "Resolving github.com (github.com)... 140.82.113.4\n",
            "Connecting to github.com (github.com)|140.82.113.4|:443... connected.\n",
            "HTTP request sent, awaiting response... 302 Found\n",
            "Location: https://raw.githubusercontent.com/egorneo/Course-work/main/data.zip [following]\n",
            "--2024-04-04 19:30:30--  https://raw.githubusercontent.com/egorneo/Course-work/main/data.zip\n",
            "Resolving raw.githubusercontent.com (raw.githubusercontent.com)... 185.199.108.133, 185.199.109.133, 185.199.110.133, ...\n",
            "Connecting to raw.githubusercontent.com (raw.githubusercontent.com)|185.199.108.133|:443... connected.\n",
            "HTTP request sent, awaiting response... 200 OK\n",
            "Length: 88696 (87K) [application/zip]\n",
            "Saving to: ‘data.zip’\n",
            "\n",
            "data.zip            100%[===================>]  86.62K  --.-KB/s    in 0.009s  \n",
            "\n",
            "2024-04-04 19:30:30 (9.56 MB/s) - ‘data.zip’ saved [88696/88696]\n",
            "\n",
            "Archive:  data.zip\n",
            "replace data/Dessins/processed/pre_filter.pt? [y]es, [n]o, [A]ll, [N]one, [r]ename: н\n",
            "error:  invalid response [н]\n",
            "replace data/Dessins/processed/pre_filter.pt? [y]es, [n]o, [A]ll, [N]one, [r]ename: y\n",
            "  inflating: data/Dessins/processed/pre_filter.pt  \n",
            "replace data/Dessins/processed/pre_transform.pt? [y]es, [n]o, [A]ll, [N]one, [r]ename: y\n",
            "  inflating: data/Dessins/processed/pre_transform.pt  \n",
            "replace data/Dessins/processed/data_processed.pt? [y]es, [n]o, [A]ll, [N]one, [r]ename: y\n",
            "  inflating: data/Dessins/processed/data_processed.pt  \n"
          ]
        }
      ],
      "source": [
        "import sys\n",
        "!wget https://raw.githubusercontent.com/egorneo/Course-work/main/dataset.py\n",
        "!wget https://github.com/egorneo/Course-work/raw/main/data.zip\n",
        "!unzip -y data.zip\n",
        "\n",
        "\n",
        "#Old way with conda env\n",
        "#from google.colab import drive\n",
        "#drive.mount('/content/drive')\n",
        "#!cp ./drive/Othercomputers/Comp/GNN/dataset.py ./\n",
        "#!pip install -q virtualenv\n",
        "#!source /content/drive/MyDrive/colab_env/bin/activate;\n",
        "#sys.path.append(\"/content/drive/MyDrive/colab_env/lib/python3.10/site-packages\")"
      ]
    },
    {
      "cell_type": "code",
      "execution_count": null,
      "metadata": {
        "colab": {
          "base_uri": "https://localhost:8080/"
        },
        "id": "1lyqb8-plG29",
        "outputId": "46b83d08-c4f1-44e6-bfe3-7d999eb26895"
      },
      "outputs": [
        {
          "output_type": "stream",
          "name": "stdout",
          "text": [
            "2.2.1+cu121\n"
          ]
        }
      ],
      "source": [
        "import os\n",
        "import torch\n",
        "print(torch.__version__)"
      ]
    },
    {
      "cell_type": "code",
      "execution_count": null,
      "metadata": {
        "colab": {
          "base_uri": "https://localhost:8080/"
        },
        "id": "MlR_Jm4EUkRF",
        "outputId": "e8d3a7df-c916-435e-bb1a-d5e4edaf4145"
      },
      "outputs": [
        {
          "output_type": "stream",
          "name": "stdout",
          "text": [
            "Dataset len = 1860\n",
            "Device: cuda\n"
          ]
        }
      ],
      "source": [
        "from torch_geometric.data import DataLoader\n",
        "from dataset import DessinsDataset\n",
        "import torch_geometric\n",
        "\n",
        "dataset = DessinsDataset('./data', None)\n",
        "print(\"Dataset len =\", len(dataset))\n",
        "device = 'cuda' if torch.cuda.is_available() else 'cpu'\n",
        "print('Device: {}'.format(device))"
      ]
    },
    {
      "cell_type": "markdown",
      "metadata": {
        "id": "_d0Uq4bMF7cg"
      },
      "source": [
        "![image.png](data:image/png;base64,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)"
      ]
    },
    {
      "cell_type": "code",
      "execution_count": null,
      "metadata": {
        "colab": {
          "base_uri": "https://localhost:8080/"
        },
        "id": "y-6tZE1KxOXp",
        "outputId": "282afcc9-6e19-4069-bf06-213af0721ca5"
      },
      "outputs": [
        {
          "output_type": "stream",
          "name": "stdout",
          "text": [
            "Data(edge_index=[2, 48], weight=[48], x=[20, 3], y=[1])\n"
          ]
        }
      ],
      "source": [
        "N = 0\n",
        "print(dataset[N])\n",
        "# print(dataset[N].edge_index.t()[:15])\n",
        "# print(\"Edge weights = \", dataset[N].weight)\n",
        "# print(dataset[N].x)\n",
        "# print(dataset[N].y)"
      ]
    },
    {
      "cell_type": "code",
      "execution_count": null,
      "metadata": {
        "colab": {
          "base_uri": "https://localhost:8080/"
        },
        "id": "hMEoPKCqEOHq",
        "outputId": "8bd20d05-4d66-4e6a-a7d7-4d8cd0f5eacb"
      },
      "outputs": [
        {
          "output_type": "stream",
          "name": "stdout",
          "text": [
            "class_weights = tensor([0.4032, 0.3387, 0.2258, 0.0323])\n"
          ]
        }
      ],
      "source": [
        "class_weights = [list(dataset.y).count(i)/len(dataset) for i in range(4)]\n",
        "assert (sum(class_weights) == 1)\n",
        "\n",
        "class_weights = torch.tensor(sorted(class_weights, reverse = True))\n",
        "print(\"class_weights =\", class_weights)"
      ]
    },
    {
      "cell_type": "code",
      "execution_count": null,
      "metadata": {
        "colab": {
          "base_uri": "https://localhost:8080/"
        },
        "id": "j11WiUr-PRH_",
        "outputId": "c9b455f1-9cf9-440b-b3a5-5a87fcdaa8f2"
      },
      "outputs": [
        {
          "output_type": "stream",
          "name": "stdout",
          "text": [
            "Number of training graphs: 1488\n",
            "Number of test graphs: 372\n",
            "Number of node features:3\n",
            "Number of classes:4\n"
          ]
        }
      ],
      "source": [
        "dataset = dataset.shuffle()\n",
        "\n",
        "\n",
        "train_dataset = dataset[:int(len(dataset)*0.8)]\n",
        "test_dataset = dataset[int(len(dataset)*0.8):]\n",
        "\n",
        "\n",
        "print(f'Number of training graphs: {len(train_dataset)}')\n",
        "print(f'Number of test graphs: {len(test_dataset)}')\n",
        "print(f'Number of node features:{dataset.num_node_features}')\n",
        "print(f'Number of classes:{dataset.num_classes}')"
      ]
    },
    {
      "cell_type": "markdown",
      "metadata": {
        "id": "WbDX6XUQ3BzJ"
      },
      "source": [
        "Объявим функцию, формирующeю DataLoader'ы. Присвоим классам вероятности так, чтобы внутри батча соблюдался баланс классов."
      ]
    },
    {
      "cell_type": "code",
      "execution_count": null,
      "metadata": {
        "id": "9piVCwikwAGJ"
      },
      "outputs": [],
      "source": [
        "from torch.utils.data import WeightedRandomSampler\n",
        "\n",
        "def get_loader(dataset, batch_size, auto_balance = True):\n",
        "  if auto_balance:\n",
        "  # Вычисляем веса\n",
        "    class_weights = [1/list(dataset.y).count(i) for i in range(4)]\n",
        "    class_weights = torch.tensor(class_weights)\n",
        "\n",
        "    #Присваиваем соответствующий вес каждому экземпляру в датасете\n",
        "    #в соответствии с его классом\n",
        "\n",
        "    sample_weights = [class_weights[data.y] for idx, data in enumerate(dataset)]\n",
        "\n",
        "    sampler = WeightedRandomSampler(sample_weights, num_samples=\n",
        "                                  len(sample_weights), replacement=True)\n",
        "\n",
        "  else:\n",
        "    sampler = None\n",
        "\n",
        "  loader = DataLoader(dataset, batch_size=batch_size, sampler=sampler)\n",
        "  return loader\n"
      ]
    },
    {
      "cell_type": "code",
      "execution_count": null,
      "metadata": {
        "id": "0gZ-l0npPIca",
        "colab": {
          "base_uri": "https://localhost:8080/"
        },
        "outputId": "0427ca43-4003-454a-c5ff-d19e0c7cb9cd"
      },
      "outputs": [
        {
          "output_type": "stream",
          "name": "stderr",
          "text": [
            "/usr/local/lib/python3.10/dist-packages/torch_geometric/deprecation.py:26: UserWarning: 'data.DataLoader' is deprecated, use 'loader.DataLoader' instead\n",
            "  warnings.warn(out)\n"
          ]
        }
      ],
      "source": [
        "train_loader = get_loader(train_dataset, batch_size=512)\n",
        "test_loader = get_loader(test_dataset, batch_size=256)"
      ]
    },
    {
      "cell_type": "markdown",
      "metadata": {
        "id": "rh2_XAtq4Hfw"
      },
      "source": [
        "Проверим, что наши батчи на самом деле сбалансированны"
      ]
    },
    {
      "cell_type": "code",
      "execution_count": null,
      "metadata": {
        "colab": {
          "base_uri": "https://localhost:8080/"
        },
        "id": "9tNuaqkj31le",
        "outputId": "ba67ba15-bf5b-4cc6-f4e4-f719d0fe9491"
      },
      "outputs": [
        {
          "output_type": "stream",
          "name": "stdout",
          "text": [
            "Class_weights =  [0.232421875, 0.267578125, 0.2109375, 0.2890625]\n"
          ]
        }
      ],
      "source": [
        "\n",
        "sample_batch = list(list(train_loader)[0].y)\n",
        "class_weights = [sample_batch.count(i)/len(sample_batch) for i in range(4)]\n",
        "print(\"Class_weights = \",class_weights)"
      ]
    },
    {
      "cell_type": "markdown",
      "metadata": {
        "id": "-vtRHPq1CWRO"
      },
      "source": [
        "Опишем нашу модель"
      ]
    },
    {
      "cell_type": "code",
      "execution_count": null,
      "metadata": {
        "id": "HR6XSrB0CPwU"
      },
      "outputs": [],
      "source": [
        "from torch.nn import Linear\n",
        "from torch.nn import BatchNorm1d\n",
        "import torch.nn.functional as F\n",
        "from torch_geometric.nn import GCNConv\n",
        "from torch_geometric.nn import global_mean_pool\n",
        "from torch_geometric.nn.conv import GraphConv\n",
        "from torch_geometric.nn.conv import GATConv\n",
        "from torch_geometric.nn import Sequential"
      ]
    },
    {
      "cell_type": "code",
      "execution_count": null,
      "metadata": {
        "colab": {
          "base_uri": "https://localhost:8080/"
        },
        "id": "CN3sRVuaQ88l",
        "outputId": "40cfd7f3-3f0b-45fb-9494-6aeb2e1ace26"
      },
      "outputs": [
        {
          "output_type": "stream",
          "name": "stdout",
          "text": [
            "GCN(\n",
            "  (convs): ModuleList(\n",
            "    (0): GCNConv(3, 128)\n",
            "    (1): GCNConv(128, 128)\n",
            "  )\n",
            "  (batch_norm): BatchNorm1d(128, eps=1e-05, momentum=0.1, affine=True, track_running_stats=True)\n",
            "  (lins): ModuleList(\n",
            "    (0): Linear(in_features=128, out_features=128, bias=True)\n",
            "    (1): Linear(in_features=128, out_features=4, bias=True)\n",
            "  )\n",
            ")\n"
          ]
        }
      ],
      "source": [
        "from collections import OrderedDict\n",
        "from torch.nn import ReLU\n",
        "class GCN(torch.nn.Module):\n",
        "    def __init__(self, input_dim, hidden_dim, output_dim, num_layers=3, lin_layers=3):\n",
        "        super(GCN, self).__init__()\n",
        "        self.last_assigned_token = None\n",
        "\n",
        "        self.num_layers = num_layers\n",
        "        self.lin_layers = lin_layers\n",
        "\n",
        "        self.convs = torch.nn.ModuleList([GCNConv(input_dim,hidden_dim)] + [GCNConv(hidden_dim,hidden_dim)\\\n",
        "                                                                          for i in range(num_layers-1)])\n",
        "        self.batch_norm = BatchNorm1d(hidden_dim)\n",
        "        self.lins = torch.nn.ModuleList([Linear(hidden_dim, hidden_dim)for i in range(lin_layers-1)] + [Linear(hidden_dim, output_dim)])\n",
        "\n",
        "    def reset_parameters(self):\n",
        "        for conv in self.convs:\n",
        "            conv.reset_parameters()\n",
        "        for lin in self.lins:\n",
        "            lin.reset_parameters()\n",
        "\n",
        "    def forward(self, x, edge_index, weights, batch):\n",
        "        # 1. Obtain node embeddings\n",
        "        for i in range(self.num_layers):\n",
        "          x = self.convs[i](x, edge_index, edge_weight=weights)\n",
        "          x = x.relu()\n",
        "\n",
        "        #x = self.convs(x, edge_index, edge_weight=weights)\n",
        "\n",
        "        #x = self.attention(x, edge_index, edge_attr = weights)\n",
        "\n",
        "        # 2. Readout layer\n",
        "        x = global_mean_pool(x, batch)  # [batch_size, hidden_channels]\n",
        "        x = self.batch_norm(x)\n",
        "        self.last_assigned_token = x\n",
        "\n",
        "        # 3. Apply a final classifier\n",
        "        x = F.dropout(x, p=0.6, training=self.training)\n",
        "\n",
        "\n",
        "        for i in range(self.lin_layers-1):\n",
        "          x = self.lins[i](x)\n",
        "          x = x.relu()\n",
        "          x = F.dropout(x, p=0.25, training=self.training)\n",
        "\n",
        "        x = self.lins[self.lin_layers-1](x) #Final layer\n",
        "        return x\n",
        "\n",
        "\n",
        "model = GCN(dataset.num_node_features,hidden_dim=128,output_dim=dataset.num_classes, num_layers=2, lin_layers=2).to(device)\n",
        "print(model)"
      ]
    },
    {
      "cell_type": "code",
      "execution_count": null,
      "metadata": {
        "colab": {
          "base_uri": "https://localhost:8080/",
          "height": 260
        },
        "id": "HvhgQoO8Svw4",
        "outputId": "a277c517-f247-4ddb-a8bf-f06fcef0ff96"
      },
      "outputs": [
        {
          "output_type": "display_data",
          "data": {
            "text/plain": [
              "<IPython.core.display.Javascript object>"
            ],
            "application/javascript": [
              "google.colab.output.setIframeHeight(0, true, {maxHeight: 300})"
            ]
          },
          "metadata": {}
        },
        {
          "output_type": "stream",
          "name": "stdout",
          "text": [
            "Epoch: 020, Train Acc: 0.5860\n",
            "Epoch: 040, Train Acc: 0.7735\n",
            "Epoch: 060, Train Acc: 0.7413\n",
            "Epoch: 080, Train Acc: 0.6788\n",
            "Epoch: 100, Train Acc: 0.7977\n",
            "Epoch: 120, Train Acc: 0.7964\n",
            "Epoch: 140, Train Acc: 0.8884\n",
            "Epoch: 160, Train Acc: 0.8562\n",
            "Epoch: 180, Train Acc: 0.9792\n",
            "Epoch: 200, Train Acc: 0.8999\n",
            "Epoch: 220, Train Acc: 0.9711\n",
            "Epoch: 240, Train Acc: 0.8858\n",
            "--------------------\n",
            "Test Acc: 0.9919\n"
          ]
        }
      ],
      "source": [
        "from IPython.display import Javascript\n",
        "display(Javascript('''google.colab.output.setIframeHeight(0, true, {maxHeight: 300})'''))\n",
        "model.reset_parameters()\n",
        "\n",
        "\n",
        "optimizer = torch.optim.AdamW(model.parameters())\n",
        "criterion = torch.nn.CrossEntropyLoss()\n",
        "\n",
        "def train(loader):\n",
        "    model.train()\n",
        "\n",
        "    # Iterate in batches over the training dataset.\n",
        "    for data in loader:\n",
        "      data = data.to(device)\n",
        "      out = model(data.x, data.edge_index, data.weight.float(), data.batch)  # Perform a single forward pass.\n",
        "      loss = criterion(out, data.y)  # Compute the loss.\n",
        "      loss.backward()  # Derive gradients.\n",
        "      optimizer.step()  # Update parameters based on gradients.\n",
        "      optimizer.zero_grad()  # Clear gradients.\n",
        "\n",
        "\n",
        "def test(loader):\n",
        "\n",
        "  model.eval()\n",
        "  correct = 0\n",
        "\n",
        "  # Iterate in batches over the training/test dataset.\n",
        "  for data in loader:\n",
        "    data = data.to(device)\n",
        "    with torch.no_grad():\n",
        "      out = model(data.x, data.edge_index, data.weight.float(), data.batch)\n",
        "\n",
        "    pred = out.argmax(dim=1) # Use the class with highest probability.\n",
        "    correct += int((pred == data.y).sum())  # Check against ground-truth labels.\n",
        "\n",
        "\n",
        "  return correct / len(loader.dataset)  # Derive ratio of correct predictions.\n",
        "\n",
        "\n",
        "for epoch in range(1, 250):\n",
        "  train(train_loader)\n",
        "  train_acc = test(train_loader)\n",
        "  if (epoch %20 == 0):\n",
        "    print(f'Epoch: {epoch:03d}, Train Acc: {train_acc:.4f}')\n",
        "\n",
        "print('--------------------')\n",
        "test_acc = test(test_loader)\n",
        "print(f'Test Acc: {test_acc:.4f}')\n",
        "\n"
      ]
    },
    {
      "cell_type": "markdown",
      "metadata": {
        "id": "dIf5SYgUGdI8"
      },
      "source": [
        "# Let us explain our model"
      ]
    },
    {
      "cell_type": "code",
      "execution_count": null,
      "metadata": {
        "id": "Fx9vAhS8GcX_"
      },
      "outputs": [],
      "source": [
        "from torch_geometric.explain import Explainer, GNNExplainer\n",
        "import networkx as nx"
      ]
    },
    {
      "cell_type": "code",
      "execution_count": null,
      "metadata": {
        "cellView": "form",
        "id": "px17ffdE8ftV"
      },
      "outputs": [],
      "source": [
        "#@title Fixed behavior of some library functions\n",
        "from math import sqrt\n",
        "from typing import Any, Optional\n",
        "\n",
        "import torch\n",
        "from torch import Tensor\n",
        "\n",
        "BACKENDS = {'graphviz', 'networkx'}\n",
        "from math import sqrt\n",
        "def visualize_graph(\n",
        "    edge_index: Tensor,\n",
        "    edge_weight: Optional[Tensor] = None,\n",
        "    path: Optional[str] = None,\n",
        "    backend: Optional[str] = None,\n",
        ") -> Any:\n",
        "    r\"\"\"Visualizes the graph given via :obj:`edge_index` and (optional)\n",
        "    :obj:`edge_weight`.\n",
        "\n",
        "    Args:\n",
        "        edge_index (torch.Tensor): The edge indices.\n",
        "        edge_weight (torch.Tensor, optional): The edge weights.\n",
        "        path (str, optional): The path to where the plot is saved.\n",
        "            If set to :obj:`None`, will visualize the plot on-the-fly.\n",
        "            (default: :obj:`None`)\n",
        "        backend (str, optional): The graph drawing backend to use for\n",
        "            visualization (:obj:`\"graphviz\"`, :obj:`\"networkx\"`).\n",
        "            If set to :obj:`None`, will use the most appropriate\n",
        "            visualization backend based on available system packages.\n",
        "            (default: :obj:`None`)\n",
        "    \"\"\"\n",
        "    if edge_weight is not None:  # Normalize edge weights.\n",
        "        edge_weight = edge_weight - edge_weight.min()\n",
        "        edge_weight = edge_weight / edge_weight.max()\n",
        "\n",
        "    if edge_weight is not None:  # Discard any edges with zero edge weight:\n",
        "        mask = edge_weight > 1e-7\n",
        "        edge_index = edge_index[:, mask]\n",
        "        edge_weight = edge_weight[mask]\n",
        "\n",
        "    if edge_weight is None:\n",
        "        edge_weight = torch.ones(edge_index.size(1))\n",
        "\n",
        "    if backend is None:\n",
        "        backend = 'graphviz' if has_graphviz() else 'networkx'\n",
        "\n",
        "    if backend.lower() == 'networkx':\n",
        "        return _visualize_graph_via_networkx(edge_index, edge_weight, path)\n",
        "    elif backend.lower() == 'graphviz':\n",
        "        return _visualize_graph_via_graphviz(edge_index, edge_weight, path)\n",
        "\n",
        "    raise ValueError(f\"Expected graph drawing backend to be in \"\n",
        "                     f\"{BACKENDS} (got '{backend}')\")\n",
        "\n",
        "\n",
        "def _visualize_graph_via_graphviz(\n",
        "    edge_index: Tensor,\n",
        "    edge_weight: Tensor,\n",
        "    path: Optional[str] = None,\n",
        ") -> Any:\n",
        "    import graphviz\n",
        "\n",
        "    suffix = path.split('.')[-1] if path is not None else None\n",
        "    g = graphviz.Digraph('graph', format=suffix)\n",
        "    g.attr('node', shape='circle', fontsize='11pt')\n",
        "\n",
        "    for node in edge_index.view(-1).unique().tolist():\n",
        "        g.node(str(node))\n",
        "\n",
        "    for (src, dst), w in zip(edge_index.t().tolist(), edge_weight.tolist()):\n",
        "        hex_color = hex(255 - round(255 * w))[2:]\n",
        "        hex_color = f'{hex_color}0' if len(hex_color) == 1 else hex_color\n",
        "        g.edge(str(src), str(dst), color=f'#{hex_color}{hex_color}{hex_color}')\n",
        "\n",
        "    if path is not None:\n",
        "        path = '.'.join(path.split('.')[:-1])\n",
        "        g.render(path, cleanup=True)\n",
        "    else:\n",
        "        g.view()\n",
        "\n",
        "    return g"
      ]
    },
    {
      "cell_type": "markdown",
      "metadata": {
        "id": "RTEDyXzcsfJe"
      },
      "source": [
        "Explainer training"
      ]
    },
    {
      "cell_type": "code",
      "execution_count": null,
      "metadata": {
        "id": "w2nLs3vQG44o"
      },
      "outputs": [],
      "source": [
        "explainer = Explainer(\n",
        "    model=model,\n",
        "    algorithm=GNNExplainer(epochs=200),\n",
        "    explanation_type='phenomenon',\n",
        "    node_mask_type='attributes',\n",
        "    edge_mask_type='object',\n",
        "    model_config=dict(\n",
        "        mode='multiclass_classification',\n",
        "        task_level='graph',\n",
        "        return_type='log_probs',  # Model returns log probabilities.\n",
        "    ),\n",
        ")"
      ]
    },
    {
      "cell_type": "code",
      "source": [
        "from torch_geometric.explain import PGExplainer\n",
        "explainer = Explainer(\n",
        "    model=model,\n",
        "    algorithm=PGExplainer(epochs=30, lr=0.003),\n",
        "    explanation_type='phenomenon',\n",
        "    edge_mask_type='object',\n",
        "    model_config=dict(\n",
        "        mode='multiclass_classification',\n",
        "        task_level='graph',\n",
        "        return_type='log_probs',\n",
        "    )\n",
        ")"
      ],
      "metadata": {
        "id": "4WNrCby_dhDU"
      },
      "execution_count": null,
      "outputs": []
    },
    {
      "cell_type": "code",
      "source": [
        "for epoch in range(1):\n",
        "  for data in train_loader:\n",
        "    data = data.to(device)\n",
        "    loss = explainer.algorithm.train(epoch, model, data.x, data.edge_index,\n",
        "                                         target=data.y, weights = data.weight.float(), batch = data.batch)"
      ],
      "metadata": {
        "id": "HrhuE8Awh6SB"
      },
      "execution_count": null,
      "outputs": []
    },
    {
      "cell_type": "code",
      "execution_count": null,
      "metadata": {
        "id": "bWo5HUkcIIBA"
      },
      "outputs": [],
      "source": [
        "from torch_geometric.explain import metric\n",
        "\n",
        "explain_loader = get_loader(train_dataset[0:50], batch_size=50,auto_balance=False)\n",
        "for data in explain_loader:\n",
        "  data = data.to(device)\n",
        "  explanation = explainer(data.x, data.edge_index, weights=data.weight.float(), batch = data.batch )\n",
        "  fids = metric.fidelity(explainer,explanation)\n",
        "  #print(fids)\n",
        "  #print(metric.characterization_score(fids[0],fids[1]))\n",
        "  #explanation.visualize_feature_importance(top_k=10)\n",
        "  #explanation.visualize_graph(backend='graphviz')\n",
        "  visualize_graph(explanation.edge_index, explanation.weights.float(), backend='graphviz')\n",
        "  #print(explanation)\n"
      ]
    },
    {
      "cell_type": "code",
      "execution_count": null,
      "metadata": {
        "id": "605Pn85WnIAq"
      },
      "outputs": [],
      "source": [
        "untchd_dataset = DessinsDataset('./drive/Othercomputers/Comp/GNN/data', None)\n",
        "untchd_dataset[0]"
      ]
    },
    {
      "cell_type": "code",
      "execution_count": null,
      "metadata": {
        "id": "akSc_KjLPg4k"
      },
      "outputs": [],
      "source": [
        "import graphviz\n",
        "inst = untchd_dataset[7]\n",
        "print(list(zip(inst.edge_index.t().tolist(), inst.weight.tolist())))\n",
        "g = graphviz.Digraph('graph')\n",
        "\n",
        "for node in inst.edge_index.contiguous().view(-1).unique().tolist():\n",
        "        g.node(str(node))\n",
        "\n",
        "for (src, dst), w in zip(inst.edge_index.t().tolist(), inst.weight.float().tolist()):\n",
        "    g.edge(str(src), str(dst), label = str(int(w)))\n",
        "\n",
        "g.render(filename='graph_7')\n",
        "g"
      ]
    },
    {
      "cell_type": "code",
      "execution_count": null,
      "metadata": {
        "id": "K_CSdR2UoLq-"
      },
      "outputs": [],
      "source": [
        "\n",
        "print(inst.edge_index.t().contiguous())\n",
        "print(inst.weight.float())\n",
        "# print(inst.edge_index.stride())\n",
        "# print(inst.edge_index.is_contiguous())\n",
        "# print(inst.edge_index.contiguous().stride())\n",
        "# print(inst.edge_index.shape)\n",
        "#visualize_graph_via_networkx_custom(inst.edge_index, inst.weight.float())\n",
        "dummy = torch.ones(len(inst.weight))\n",
        "print(dummy)\n",
        "visualize_graph(inst.edge_index, inst.weight.float(), backend='graphviz')"
      ]
    },
    {
      "cell_type": "code",
      "execution_count": null,
      "metadata": {
        "id": "KXxMnWzvumxj"
      },
      "outputs": [],
      "source": [
        "mask = explanation.get('edge_mask')\n",
        "mask"
      ]
    },
    {
      "cell_type": "code",
      "execution_count": null,
      "metadata": {
        "id": "Ga6GWxUwexI1"
      },
      "outputs": [],
      "source": [
        "\n",
        "inst = untchd_dataset[7]\n",
        "print(list(zip(inst.edge_index.t().tolist(), mask.tolist())))\n",
        "g = graphviz.Digraph('graph')\n",
        "\n",
        "for node in inst.edge_index.contiguous().view(-1).unique().tolist():\n",
        "        g.node(str(node))\n",
        "\n",
        "for (src, dst), w, l in zip(inst.edge_index.t().tolist(), mask.tolist(), inst.weight.float().tolist()):\n",
        "    hex_color = hex(255 - round(255 * w))[2:]\n",
        "    hex_color = f'{hex_color}0' if len(hex_color) == 1 else hex_color\n",
        "    print(f'#{hex_color}{hex_color}{hex_color}')\n",
        "    g.edge(str(src), str(dst), color=f'#{hex_color}{hex_color}{hex_color}', label = str(int(l)))\n",
        "    #g.edge(str(src), str(dst), label = str(int(w)))\n",
        "\n",
        "g\n",
        "g.render(filename='weighted_graph_7')"
      ]
    },
    {
      "cell_type": "code",
      "execution_count": null,
      "metadata": {
        "id": "SGay6McwIjoK"
      },
      "outputs": [],
      "source": [
        "visualize_graph(self.edge_index, edge_mask, path, backend)"
      ]
    },
    {
      "cell_type": "code",
      "execution_count": null,
      "metadata": {
        "id": "mtb_3F01SqmX"
      },
      "outputs": [],
      "source": []
    },
    {
      "cell_type": "code",
      "execution_count": null,
      "metadata": {
        "id": "81WMkdr_oTcl"
      },
      "outputs": [],
      "source": []
    }
  ],
  "metadata": {
    "accelerator": "GPU",
    "colab": {
      "provenance": [],
      "gpuType": "T4",
      "include_colab_link": true
    },
    "kernelspec": {
      "display_name": "Python 3",
      "name": "python3"
    }
  },
  "nbformat": 4,
  "nbformat_minor": 0
}