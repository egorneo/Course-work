{
  "nbformat": 4,
  "nbformat_minor": 0,
  "metadata": {
    "colab": {
      "provenance": [],
      "gpuType": "T4"
    },
    "kernelspec": {
      "name": "python3",
      "display_name": "Python 3"
    },
    "language_info": {
      "name": "python"
    },
    "gpuClass": "standard"
  },
  "cells": [
    {
      "cell_type": "markdown",
      "source": [
        "Импортируем необходимые библиотеки"
      ],
      "metadata": {
        "id": "LmkZKLY5NIFb"
      }
    },
    {
      "cell_type": "code",
      "execution_count": null,
      "metadata": {
        "id": "VsTCSSqcMuD6",
        "outputId": "07e44335-66d7-4987-a11d-8b8682944783",
        "colab": {
          "base_uri": "https://localhost:8080/"
        }
      },
      "outputs": [
        {
          "output_type": "stream",
          "name": "stdout",
          "text": [
            "Device: cpu\n"
          ]
        }
      ],
      "source": [
        "import torch\n",
        "from torch import nn\n",
        "import matplotlib.pyplot as plt\n",
        "import numpy as np\n",
        "\n",
        "device = 'cuda' if torch.cuda.is_available() else 'cpu'\n",
        "print('Device: {}'.format(device))"
      ]
    },
    {
      "cell_type": "markdown",
      "source": [
        "Загружаем обработанные рисунки."
      ],
      "metadata": {
        "id": "0efTkr2TNDQF"
      }
    },
    {
      "cell_type": "code",
      "source": [
        "!rm ans_pre;\n",
        "!rm des_pre;\n",
        "!wget https://raw.githubusercontent.com/egorneo/Dess/main/ans_pre;\n",
        "!wget https://raw.githubusercontent.com/egorneo/Dess/main/des_pre;"
      ],
      "metadata": {
        "colab": {
          "base_uri": "https://localhost:8080/"
        },
        "id": "TgAql6u4Qa_6",
        "outputId": "6898241b-3f25-408b-f3ab-7c5bbc2b112f"
      },
      "execution_count": null,
      "outputs": [
        {
          "output_type": "stream",
          "name": "stdout",
          "text": [
            "rm: cannot remove 'ans_pre': No such file or directory\n",
            "rm: cannot remove 'des_pre': No such file or directory\n",
            "--2023-05-24 17:37:42--  https://raw.githubusercontent.com/egorneo/Dess/main/ans_pre\n",
            "Resolving raw.githubusercontent.com (raw.githubusercontent.com)... 185.199.110.133, 185.199.108.133, 185.199.109.133, ...\n",
            "Connecting to raw.githubusercontent.com (raw.githubusercontent.com)|185.199.110.133|:443... connected.\n",
            "HTTP request sent, awaiting response... 200 OK\n",
            "Length: 382825 (374K) [application/octet-stream]\n",
            "Saving to: ‘ans_pre’\n",
            "\n",
            "ans_pre             100%[===================>] 373.85K  --.-KB/s    in 0.02s   \n",
            "\n",
            "2023-05-24 17:37:42 (18.7 MB/s) - ‘ans_pre’ saved [382825/382825]\n",
            "\n",
            "--2023-05-24 17:37:42--  https://raw.githubusercontent.com/egorneo/Dess/main/des_pre\n",
            "Resolving raw.githubusercontent.com (raw.githubusercontent.com)... 185.199.108.133, 185.199.109.133, 185.199.110.133, ...\n",
            "Connecting to raw.githubusercontent.com (raw.githubusercontent.com)|185.199.108.133|:443... connected.\n",
            "HTTP request sent, awaiting response... 200 OK\n",
            "Length: 19122117 (18M) [application/octet-stream]\n",
            "Saving to: ‘des_pre’\n",
            "\n",
            "des_pre             100%[===================>]  18.24M  --.-KB/s    in 0.08s   \n",
            "\n",
            "2023-05-24 17:37:43 (241 MB/s) - ‘des_pre’ saved [19122117/19122117]\n",
            "\n"
          ]
        }
      ]
    },
    {
      "cell_type": "code",
      "source": [
        "import pickle\n",
        "with open ('ans_pre', 'rb') as fp:\n",
        "    answers = pickle.load(fp)\n",
        "with open ('des_pre', 'rb') as fp:\n",
        "    des = pickle.load(fp)"
      ],
      "metadata": {
        "id": "t-m5-OUKNA4k"
      },
      "execution_count": null,
      "outputs": []
    },
    {
      "cell_type": "markdown",
      "source": [
        "Обучение на исходном датасете"
      ],
      "metadata": {
        "id": "AuUO4lYmyfBa"
      }
    },
    {
      "cell_type": "code",
      "source": [
        "# import pickle\n",
        "# with open ('ans_original', 'rb') as fp:\n",
        "#     answers = pickle.load(fp)\n",
        "# with open ('des_original', 'rb') as fp:\n",
        "#     des = pickle.load(fp)\n",
        "\n",
        "# print(\"Number of examples =\", len(des))"
      ],
      "metadata": {
        "colab": {
          "base_uri": "https://localhost:8080/"
        },
        "id": "a18yIePT_iva",
        "outputId": "ea010b0d-f80c-489c-f1f8-0ab324b4dc93"
      },
      "execution_count": null,
      "outputs": [
        {
          "output_type": "stream",
          "name": "stdout",
          "text": [
            "Number of examples = 191\n"
          ]
        }
      ]
    },
    {
      "cell_type": "code",
      "source": [
        "class_weights = [round(list(answers).count(i)/len(answers),2) for i in range(4)]\n",
        "print(\"Class weights =\", class_weights)"
      ],
      "metadata": {
        "colab": {
          "base_uri": "https://localhost:8080/"
        },
        "id": "rsR9L2qtymFU",
        "outputId": "5eda548e-5cae-4b26-fade-e89ae8e9567f"
      },
      "execution_count": null,
      "outputs": [
        {
          "output_type": "stream",
          "name": "stdout",
          "text": [
            "Class weights = [0.4, 0.35, 0.23, 0.03]\n"
          ]
        }
      ]
    },
    {
      "cell_type": "markdown",
      "source": [
        "Каждый детский рисунок представлен стандартно в виде 3 перестановок, затем они записываются в одни длинный вектор длины 48."
      ],
      "metadata": {
        "id": "5xa0oBflQHHu"
      }
    },
    {
      "cell_type": "markdown",
      "source": [
        "Например, для того, что на картинке.![des.png](data:image/png;base64,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)"
      ],
      "metadata": {
        "id": "CpZYflOHRIRR"
      }
    },
    {
      "cell_type": "code",
      "source": [
        "print(des[0])\n",
        "print(f\"Length = {len(des[0])}\")\n",
        "print(f\"Galois dim = {answers[0]} (Отсчёт идёт с нуля, т.е. 0 соответствует Q)\")"
      ],
      "metadata": {
        "colab": {
          "base_uri": "https://localhost:8080/"
        },
        "id": "FBBHvAs4QYb5",
        "outputId": "c36651da-dbed-40fc-9756-ff3252d0d349"
      },
      "execution_count": null,
      "outputs": [
        {
          "output_type": "stream",
          "name": "stdout",
          "text": [
            "[8, 1, 9, 2, 3, 10, 4, 5, 11, 12, 6, 7, 18, 14, 19, 22, 16, 23, 13, 24, 17, 21, 20, 15, 1, 2, 9, 13, 10, 14, 3, 4, 15, 11, 24, 23, 17, 18, 8, 7, 5, 6, 12, 16, 21, 22, 20, 19]\n",
            "Length = 48\n",
            "Galois dim = 0 (Отсчёт идёт с нуля, т.е. 0 соответствует Q)\n"
          ]
        }
      ]
    },
    {
      "cell_type": "markdown",
      "source": [
        "Прописываем архитектуру нейронной сети. На вход подаётся вектор длины 48 преобразуемый линейно в вектор размерности hid_size = 512, затем 5 раз применяется композиция линейного преобразования $\\mathbb{R}^{512}\\to\\mathbb{R}^{512}$ и некоторой фиксированной нелинейной функции. На выходе вектор длины, соответсвующий \"вероятности\" попадания в один из 4 классов. "
      ],
      "metadata": {
        "id": "l2WciyJk80mM"
      }
    },
    {
      "cell_type": "code",
      "source": [
        "from torch.nn import Linear\n",
        "import torch.nn.functional as F\n",
        "hid_size = 512\n",
        "\n",
        "\n",
        "\n",
        "class FNN(torch.nn.Module):\n",
        "  def __init__(self, input_dim,  output_dim, hidden_dim=64, num_layers=4):\n",
        "    super(FNN, self).__init__()\n",
        "    self.input_dim = input_dim\n",
        "    self.output_dim = output_dim\n",
        "    self.hidden_dim = hidden_dim\n",
        "    self.num_layers = num_layers\n",
        "\n",
        "    self.lins = torch.nn.ModuleList([Linear(input_dim, hidden_dim)] + [Linear(hidden_dim, hidden_dim) for i in range(num_layers-2)] + [Linear(hidden_dim, output_dim)])\n",
        "\n",
        "  def reset_parameters(self):\n",
        "    for lin in self.lins:\n",
        "      lin.reset_parameters()\n",
        "  \n",
        "  def forward(self, x):\n",
        "    for i in range(self.num_layers-1):\n",
        "      x = self.lins[i](x)\n",
        "      x = x.relu()\n",
        "      x = F.dropout(x, p=0.25, training=self.training)\n",
        "        \n",
        "    x = self.lins[self.num_layers-1](x) #Final layers\n",
        "    return x\n",
        "\n",
        "model = FNN(input_dim = len(des[0]), output_dim = 4, hidden_dim = 512, num_layers = 2).to(device)"
      ],
      "metadata": {
        "id": "Jn5dfcG_nNFc"
      },
      "execution_count": null,
      "outputs": []
    },
    {
      "cell_type": "markdown",
      "source": [
        "Разбиваем данные на train\\test. На 80 процентов данных будут оптимизироваться веса линейной части модели, на 20 процентах проверим её точность."
      ],
      "metadata": {
        "id": "8Oj73Mi-9Iqf"
      }
    },
    {
      "cell_type": "code",
      "source": [
        "from sklearn.model_selection import train_test_split\n",
        "X_train, X_test, y_train, y_test = train_test_split(des,answers,shuffle=True)\n",
        "\n",
        "X_train = torch.FloatTensor(X_train).to(device)\n",
        "y_train = torch.LongTensor(y_train).to(device)\n",
        "X_test = torch.FloatTensor(X_test).to(device)\n",
        "y_test = torch.LongTensor(y_test).to(device)\n",
        "\n",
        "train_data = torch.utils.data.TensorDataset(X_train, y_train)\n",
        "test_data = torch.utils.data.TensorDataset(X_test, y_test)\n",
        "\n",
        "train_loader = torch.utils.data.DataLoader(train_data, batch_size=64, shuffle=True)\n",
        "test_loader = torch.utils.data.DataLoader(test_data, batch_size=64, shuffle=True)"
      ],
      "metadata": {
        "id": "6LRlvhh9_a-p"
      },
      "execution_count": null,
      "outputs": []
    },
    {
      "cell_type": "markdown",
      "source": [
        "Будем минимизировать перекрестную энтропию, как это принято при решении задачи \n",
        "\n",
        "классификации. Обучаем модель, наблюдаем, как падает эта ошибка. Эта часть в \n",
        "\n",
        "Google collab выполняется где-то 7-10 минут."
      ],
      "metadata": {
        "id": "81-z4yBG9WKp"
      }
    },
    {
      "cell_type": "code",
      "source": [
        "def train_model(model, train_data, n_epoch):\n",
        "\n",
        "    #Определяем функцию потерь и оптимизатор \n",
        "    loss_function = nn.CrossEntropyLoss()\n",
        "    opt = torch.optim.SGD(model.parameters(), lr=0.001)\n",
        "    \n",
        "    \n",
        "    loss_history = []\n",
        "\n",
        "    for epoch_num in range(n_epoch):\n",
        "        print(f\"Epoch:{epoch_num+1} out of {n_epoch}\")\n",
        "        \n",
        "        model.train(True)\n",
        "        for i, batch in enumerate(train_loader):\n",
        "            X_batch, y_batch = batch\n",
        "            \n",
        "            opt.zero_grad()\n",
        "            y_predicted = model(X_batch)\n",
        "            loss = loss_function(y_predicted, y_batch)\n",
        "            loss.backward()\n",
        "            opt.step()\n",
        "        loss_history.append(loss.item())\n",
        "\n",
        "    return model, loss_history\n",
        "\n",
        "num_epoch = 20\n",
        "\n",
        "model.reset_parameters()\n",
        "out = train_model(model,train_loader, num_epoch)\n",
        "plt.plot(np.array(out[1][1:]), label=\"Loss\")"
      ],
      "metadata": {
        "id": "TIyOevby9HeT",
        "colab": {
          "base_uri": "https://localhost:8080/",
          "height": 794
        },
        "outputId": "77724681-cec5-449d-c2fd-125ed56cd94b"
      },
      "execution_count": null,
      "outputs": [
        {
          "output_type": "stream",
          "name": "stdout",
          "text": [
            "Epoch:1 out of 20\n",
            "Epoch:2 out of 20\n",
            "Epoch:3 out of 20\n",
            "Epoch:4 out of 20\n",
            "Epoch:5 out of 20\n",
            "Epoch:6 out of 20\n",
            "Epoch:7 out of 20\n",
            "Epoch:8 out of 20\n",
            "Epoch:9 out of 20\n",
            "Epoch:10 out of 20\n",
            "Epoch:11 out of 20\n",
            "Epoch:12 out of 20\n",
            "Epoch:13 out of 20\n",
            "Epoch:14 out of 20\n",
            "Epoch:15 out of 20\n",
            "Epoch:16 out of 20\n",
            "Epoch:17 out of 20\n",
            "Epoch:18 out of 20\n",
            "Epoch:19 out of 20\n",
            "Epoch:20 out of 20\n"
          ]
        },
        {
          "output_type": "execute_result",
          "data": {
            "text/plain": [
              "[<matplotlib.lines.Line2D at 0x7fabbcc1e230>]"
            ]
          },
          "metadata": {},
          "execution_count": 9
        },
        {
          "output_type": "display_data",
          "data": {
            "text/plain": [
              "<Figure size 640x480 with 1 Axes>"
            ],
            "image/png": "[encoded data removed]"
          },
          "metadata": {}
        }
      ]
    },
    {
      "cell_type": "markdown",
      "source": [
        "Считаем ошибку на тестовой выборке. Модель показывает результат близкий к 100 процентам.\n"
      ],
      "metadata": {
        "id": "euZIXln3-pHe"
      }
    },
    {
      "cell_type": "code",
      "source": [
        "predicted_labels = []\n",
        "real_labels = []\n",
        "model.eval()\n",
        "with torch.no_grad():\n",
        "    for i in range(len(X_test)):\n",
        "        y_predicted = model(X_test[i])\n",
        "        predicted_labels.append(y_predicted.argmax())\n",
        "        real_labels.append(y_test[i])\n",
        "\n",
        "print(predicted_labels[0:20])\n",
        "print(real_labels[0:20])  \n",
        "test_acc = [(lambda i: 1 if(predicted_labels[i] == real_labels[i]) else 0)(i) for i in range(len(predicted_labels))]\n",
        "test_acc = sum(test_acc)/len(test_acc)\n",
        "print(f\"Test accuracy = {test_acc}\")"
      ],
      "metadata": {
        "id": "4wOC-j-P9pyJ",
        "colab": {
          "base_uri": "https://localhost:8080/"
        },
        "outputId": "134a34ba-b726-4004-a8c0-840332515795"
      },
      "execution_count": null,
      "outputs": [
        {
          "output_type": "stream",
          "name": "stdout",
          "text": [
            "[tensor(0), tensor(0), tensor(0), tensor(1), tensor(0), tensor(0), tensor(0), tensor(2), tensor(2), tensor(0), tensor(1), tensor(0), tensor(2), tensor(1), tensor(2), tensor(1), tensor(2), tensor(0), tensor(1), tensor(1)]\n",
            "[tensor(0), tensor(0), tensor(0), tensor(1), tensor(0), tensor(0), tensor(0), tensor(2), tensor(1), tensor(0), tensor(1), tensor(0), tensor(2), tensor(1), tensor(2), tensor(2), tensor(2), tensor(0), tensor(1), tensor(1)]\n",
            "Test accuracy = 0.7509505703422054\n"
          ]
        }
      ]
    }
  ]
}
